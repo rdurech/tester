{
 "cells": [
  {
   "cell_type": "markdown",
   "id": "f478f70f",
   "metadata": {},
   "source": [
    "# Data Science Tools and Ecosystem"
   ]
  },
  {
   "cell_type": "markdown",
   "id": "dc7346ab",
   "metadata": {},
   "source": [
    "### _In this notebook, Data Science Tools and Ecosystem are summarized_\n",
    "\n",
    "<b>Objectives:</b>\n",
    "\n",
    "   -  Popular languanges in Data Science \n",
    "   -  Commonly used libraries in Data Science \n",
    "   -  Data Science Tools \n",
    "   -  Examples"
   ]
  },
  {
   "cell_type": "markdown",
   "id": "58058df1",
   "metadata": {},
   "source": [
    "Some of the popular languages that Data Scientists use are:\n",
    "\n",
    "   1. Python\n",
    "   2. Java \n",
    "   3. R\n",
    "   4. SQL\n",
    "   5. Julia \n",
    "   6. Scala "
   ]
  },
  {
   "cell_type": "markdown",
   "id": "d7279e59",
   "metadata": {},
   "source": [
    "Some of the commonly used libraries used by Data Scientists include:\n",
    "\n",
    "   1. NumPy\n",
    "   2. Keras\n",
    "   3. Pandas\n",
    "   4. PyTorch\n",
    "   5. SciPy\n",
    "   6. Scikit-Learn\n",
    "   7. TensorFlow"
   ]
  },
  {
   "cell_type": "code",
   "execution_count": 14,
   "id": "607269ff",
   "metadata": {},
   "outputs": [
    {
     "data": {
      "text/html": [
       "<style>\n",
       "table {float:left}\n",
       "</style>\n"
      ],
      "text/plain": [
       "<IPython.core.display.HTML object>"
      ]
     },
     "metadata": {},
     "output_type": "display_data"
    }
   ],
   "source": [
    "%%html\n",
    "<style>\n",
    "table {float:left}\n",
    "</style>"
   ]
  },
  {
   "cell_type": "markdown",
   "id": "1fd7fce1",
   "metadata": {},
   "source": [
    "|Data Science Tools|\n",
    "|:------|\n",
    "|Jupyter notebook|\n",
    "|MS Excel|\n",
    "|Tableau|"
   ]
  },
  {
   "cell_type": "markdown",
   "id": "eec552b3",
   "metadata": {},
   "source": [
    "### Below are a few examples of evaluating arithmetic expressions in Python:"
   ]
  },
  {
   "cell_type": "code",
   "execution_count": 15,
   "id": "0dc65d89",
   "metadata": {},
   "outputs": [
    {
     "data": {
      "text/plain": [
       "17"
      ]
     },
     "execution_count": 15,
     "metadata": {},
     "output_type": "execute_result"
    }
   ],
   "source": [
    "# This a simple arithmetic expression to mutiply then add integers: \n",
    "(3*4)+5"
   ]
  },
  {
   "cell_type": "code",
   "execution_count": 16,
   "id": "5f5392ca",
   "metadata": {},
   "outputs": [
    {
     "data": {
      "text/plain": [
       "3.33"
      ]
     },
     "execution_count": 16,
     "metadata": {},
     "output_type": "execute_result"
    }
   ],
   "source": [
    "# This will convert 200 minutes to hours by diving by 60:\n",
    "round((200/60),2)\n"
   ]
  },
  {
   "cell_type": "markdown",
   "id": "b5d60cce",
   "metadata": {},
   "source": [
    "## Author\n",
    "Richard Durech"
   ]
  }
 ],
 "metadata": {
  "kernelspec": {
   "display_name": "Python 3 (ipykernel)",
   "language": "python",
   "name": "python3"
  },
  "language_info": {
   "codemirror_mode": {
    "name": "ipython",
    "version": 3
   },
   "file_extension": ".py",
   "mimetype": "text/x-python",
   "name": "python",
   "nbconvert_exporter": "python",
   "pygments_lexer": "ipython3",
   "version": "3.11.5"
  }
 },
 "nbformat": 4,
 "nbformat_minor": 5
}
